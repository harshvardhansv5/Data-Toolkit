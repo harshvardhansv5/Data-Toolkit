{
  "nbformat": 4,
  "nbformat_minor": 0,
  "metadata": {
    "colab": {
      "provenance": []
    },
    "kernelspec": {
      "name": "python3",
      "display_name": "Python 3"
    },
    "language_info": {
      "name": "python"
    }
  },
  "cells": [
    {
      "cell_type": "markdown",
      "source": [
        "**1. What is NumPy, and why is it widely used in Python?**\n",
        "- NumPy is a core library for scientific computing in Python. It introduces the “ndarray” object—a fast, efficient, multidimensional array that supports element‐wise operations. Its strengths lie in its speed (by relying on optimized C code), memory efficiency, and the ability to integrate seamlessly with other libraries (such as pandas, SciPy, and Matplotlib). This makes it ideal for heavy numerical computations and forms the backbone of many data science and machine learning projects."
      ],
      "metadata": {
        "id": "kurDTgHz8Z1W"
      }
    },
    {
      "cell_type": "markdown",
      "source": [
        "**2. How does broadcasting work in NumPy?**\n",
        "- Broadcasting is a set of rules that allow NumPy to perform arithmetic operations on arrays of different shapes. When two arrays are combined, NumPy “stretches” the smaller array along the missing or singleton dimensions so that they become compatible. This avoids the need for explicit replication of data and makes operations both memory‐efficient and fast."
      ],
      "metadata": {
        "id": "-_r1pG2C8nzq"
      }
    },
    {
      "cell_type": "markdown",
      "source": [
        "**3. What is a Pandas DataFrame?**\n",
        "- A DataFrame is a two-dimensional, size-mutable, heterogeneous tabular data structure with labeled rows and columns. It is similar to a spreadsheet or SQL table and is built on top of NumPy arrays. DataFrames offer powerful indexing, alignment, and data manipulation methods that simplify cleaning and analysis."
      ],
      "metadata": {
        "id": "-w4iN-Yi7joG"
      }
    },
    {
      "cell_type": "markdown",
      "source": [
        "**4. Explain the use of the groupby() method in Pandas.**\n",
        "- The groupby() method splits a DataFrame into groups based on one or more keys, allowing you to apply functions (such as aggregations, transformations, or filters) to each group independently and then combine the results. This “split-apply-combine” paradigm is invaluable for summarizing and analyzing data by category."
      ],
      "metadata": {
        "id": "j94MpV2t7uKu"
      }
    },
    {
      "cell_type": "markdown",
      "source": [
        "**5. Why is Seaborn preferred for statistical visualizations?**\n",
        "- Seaborn is built on top of Matplotlib and is designed specifically for statistical graphics. It offers high-level functions for complex visualizations (such as regression plots, categorical plots, and distribution plots) with attractive default aesthetics, making it quicker and easier to produce publication-quality plots from DataFrames."
      ],
      "metadata": {
        "id": "1xFy9Dmk8Qyc"
      }
    },
    {
      "cell_type": "markdown",
      "source": [
        "**6. What are the differences between NumPy arrays and Python lists?**\n",
        "- **Homogeneity & Memory Layout:**\n",
        " - NumPy arrays require all elements to be of the same type and are stored in contiguous memory, which allows for efficient computation.\n",
        " Python lists can hold heterogeneous types and are dynamically allocated, resulting in slower element-wise operations.\n",
        "- **Performance & Operations:**\n",
        "  - NumPy supports vectorized operations (see below) and broadcasting, making numerical tasks much faster compared to Python’s built‐in lists.\n",
        "Python lists require explicit loops for element-wise math, incurring overhead."
      ],
      "metadata": {
        "id": "mV59_vXp9QZO"
      }
    },
    {
      "cell_type": "markdown",
      "source": [
        "**7. What Is a heatmap and when to use it?**\n",
        "- A heatmap is a graphical representation where data values are depicted by variations in color. It is ideal for visualizing matrices or correlation tables, highlighting patterns, intensity, or density in large datasets."
      ],
      "metadata": {
        "id": "VroI9O5X-t59"
      }
    },
    {
      "cell_type": "markdown",
      "source": [
        "**8. What does the term “vectorized operation” mean in NumPy?**\n",
        "- Vectorized operations apply a single operation simultaneously over an entire array (or large chunks) without explicit Python loops. This leverages low-level optimized C/Fortran code to improve performance significantly."
      ],
      "metadata": {
        "id": "BVzYCCDz_BEO"
      }
    },
    {
      "cell_type": "markdown",
      "source": [
        "**9. How does Matplotlib differ from Plotly?**\n",
        "- Matplotlib:\n",
        " - Primarily produces static, publication-quality plots.\n",
        " - Offers extensive customization but limited interactivity.\n",
        "- Plotly:\n",
        " - Creates interactive, web-ready visualizations with built-in features like zooming, panning, and tooltips.\n",
        " - Ideal for dashboards and real-time data exploration."
      ],
      "metadata": {
        "id": "QIsYbxR8_Stv"
      }
    },
    {
      "cell_type": "markdown",
      "source": [
        "**10. What is the significance of hierarchical indexing in Pandas?**\n",
        "- Hierarchical (MultiIndex) indexing allows a DataFrame to have multiple index levels. This facilitates grouping, aggregation, and analysis of high-dimensional data in a two-dimensional tabular structure."
      ],
      "metadata": {
        "id": "QIKmuyis_ujm"
      }
    },
    {
      "cell_type": "markdown",
      "source": [
        "**11. What is the role of Seaborn's pairplot() function?**\n",
        "- The pairplot() function automatically plots pairwise relationships in a dataset, displaying scatter plots for variable pairs and histograms (or KDE plots) along the diagonal. It is a powerful tool for exploratory data analysis to quickly assess correlations and distributions."
      ],
      "metadata": {
        "id": "sf8GKojbAATk"
      }
    },
    {
      "cell_type": "markdown",
      "source": [
        "**12. What is the purpose of the describe() function in Pandas?**\n",
        "- describe() generates summary statistics for numerical columns (e.g., count, mean, standard deviation, min, quartiles, and max), providing a quick overview of the dataset’s distribution and range."
      ],
      "metadata": {
        "id": "qgSe_XGWANeE"
      }
    },
    {
      "cell_type": "markdown",
      "source": [
        "**13. Why is handling missing data important in Pandas?**\n",
        "- Missing data can skew analyses or lead to errors. Pandas offers functions like dropna() and fillna() to identify and manage gaps, ensuring that analyses remain robust and interpretations valid."
      ],
      "metadata": {
        "id": "ZtmXioVIAkMD"
      }
    },
    {
      "cell_type": "markdown",
      "source": [
        "**14. What are the benefits of using Plotly for data visualization?**\n",
        "- Plotly delivers interactive, aesthetically appealing charts that work seamlessly in web applications. Its interactivity (hover info, zoom, and dynamic updates) and ease of integration with dashboards make it ideal for exploratory analysis and presentations."
      ],
      "metadata": {
        "id": "gQhX7rg7A1ZW"
      }
    },
    {
      "cell_type": "markdown",
      "source": [
        "**15. How does NumPy handle multidimensional arrays?**\n",
        "- NumPy’s core data structure, the ndarray, supports N-dimensional arrays stored in contiguous memory. It offers efficient slicing, broadcasting, and vectorized operations, allowing complex multi-dimensional computations to be performed quickly."
      ],
      "metadata": {
        "id": "T7z1ScYEBBud"
      }
    },
    {
      "cell_type": "markdown",
      "source": [
        "**16. What is the role of Bokeh in data visualization?**\n",
        "- Bokeh is tailored for creating interactive visualizations for modern web browsers. It enables users to build dashboards and interactive plots with features like zooming, panning, and real-time data updates."
      ],
      "metadata": {
        "id": "WJ6DbqUnBOiL"
      }
    },
    {
      "cell_type": "markdown",
      "source": [
        "**17. Explain the difference between apply() and map() in Pandas.**\n",
        "- map():\n",
        " - Works on a Series for element-wise transformations using a function or dictionary.\n",
        "- apply():\n",
        " - Can be used on both Series and DataFrames; it applies a function along an axis (rows or columns) and can return aggregates or transformed outputs."
      ],
      "metadata": {
        "id": "mygfmdFVBShD"
      }
    },
    {
      "cell_type": "markdown",
      "source": [
        "**18. What are some advanced features of NumPy?**\n",
        "- Some advanced features include:\n",
        " - Broadcasting: Automatically expands arrays with smaller dimensions for element-wise operations.\n",
        " - Advanced Indexing: Enables complex subsetting and manipulation of data.\n",
        " - Memory Mapping: Allows handling of large arrays stored on disk.\n",
        " - Integration with C/C++: For high-performance computing tasks.\n",
        " - Linear Algebra and FFT Modules: Provide comprehensive mathematical functionality."
      ],
      "metadata": {
        "id": "CfCChh-_BWM-"
      }
    },
    {
      "cell_type": "markdown",
      "source": [
        "**19. How does Pandas simplify time series analysis?**\n",
        "- Pandas has built-in support for date/time types, indexing by time, resampling, frequency conversion, and rolling window calculations. These features simplify tasks such as trend analysis, seasonal adjustments, and time-based grouping."
      ],
      "metadata": {
        "id": "oloiYM93Bn2z"
      }
    },
    {
      "cell_type": "markdown",
      "source": [
        "**20. What is the role of a pivot table in Pandas?**\n",
        "- A pivot table reshapes data by aggregating and summarizing values across one or more dimensions. It is similar to Excel's pivot tables, allowing quick cross-tabulation and multi-dimensional data analysis."
      ],
      "metadata": {
        "id": "W_Vsjm1lBqG9"
      }
    },
    {
      "cell_type": "markdown",
      "source": [
        "**21. Why is NumPy's array slicing faster than Python's list slicing?**\n",
        "- NumPy's slicing is executed in optimized C code and works on contiguous memory blocks, avoiding the overhead of creating new objects for each slice—unlike Python list slicing, which involves additional memory allocations and dynamic type handling."
      ],
      "metadata": {
        "id": "vwedQENLBs7t"
      }
    },
    {
      "cell_type": "markdown",
      "source": [
        "**22. What are some common use cases for Seaborn?**\n",
        "- Seaborn is commonly used to create:\n",
        " - Statistical Plots: Box plots, violin plots, and bar plots for distribution comparisons.\n",
        " - Correlation Visualizations: Heatmaps for correlation matrices.\n",
        " - Pairwise Relationships: Pair plots to visualize multivariate relationships.\n",
        " - Regression Visualizations: Scatter plots with fitted regression lines, aiding exploratory data analysis."
      ],
      "metadata": {
        "id": "mpSScqSyB-cl"
      }
    },
    {
      "cell_type": "markdown",
      "source": [
        "**1. How do you create a 2D NumPy array and calculate the sum of each row?**"
      ],
      "metadata": {
        "id": "SeO8exZyEhPd"
      }
    },
    {
      "cell_type": "code",
      "source": [
        "import numpy as np\n",
        "# Create a 2D array\n",
        "arr = np.array([[1, 2, 3],\n",
        "                [4, 5, 6],\n",
        "                [7, 8, 9]])\n",
        "\n",
        "# Calculate the sum of each row\n",
        "row_sums = np.sum(arr, axis=1)\n",
        "print(\"Array:\")\n",
        "print(arr)\n",
        "print(\"\\nSum of each row:\")\n",
        "print(row_sums)"
      ],
      "metadata": {
        "colab": {
          "base_uri": "https://localhost:8080/"
        },
        "id": "SDwkQzTdD_7W",
        "outputId": "332043a6-b70c-4467-ba6e-b235be750cfe"
      },
      "execution_count": null,
      "outputs": [
        {
          "output_type": "stream",
          "name": "stdout",
          "text": [
            "Array:\n",
            "[[1 2 3]\n",
            " [4 5 6]\n",
            " [7 8 9]]\n",
            "\n",
            "Sum of each row:\n",
            "[ 6 15 24]\n"
          ]
        }
      ]
    },
    {
      "cell_type": "markdown",
      "source": [
        "**2. Write a Pandas script to find the mean of a specific column in a DataFrame.**"
      ],
      "metadata": {
        "id": "5OuP2dl6EtZ1"
      }
    },
    {
      "cell_type": "code",
      "source": [
        "import pandas as pd\n",
        "# Create a sample DataFrame\n",
        "data = {\n",
        "    'Name': ['Alice', 'Bob', 'Charlie'],\n",
        "    'Age': [25, 30, 35],\n",
        "    'Salary': [50000, 60000, 70000]\n",
        "}\n",
        "df = pd.DataFrame(data)\n",
        "# Calculate the mean of the 'Age' column\n",
        "mean_age = df['Age'].mean()\n",
        "print(\"Mean Age:\", mean_age)"
      ],
      "metadata": {
        "colab": {
          "base_uri": "https://localhost:8080/"
        },
        "id": "RsbGTQU3E1vW",
        "outputId": "b0ea296b-4b72-4334-9dcd-4fb4254e1b9b"
      },
      "execution_count": null,
      "outputs": [
        {
          "output_type": "stream",
          "name": "stdout",
          "text": [
            "Mean Age: 30.0\n"
          ]
        }
      ]
    },
    {
      "cell_type": "markdown",
      "source": [
        "**3. Create a scatter plot using Matplotlib.**"
      ],
      "metadata": {
        "id": "Pn7vHJYuF6Ni"
      }
    },
    {
      "cell_type": "code",
      "source": [
        "import matplotlib.pyplot as plt\n",
        "import numpy as np\n",
        "\n",
        "# Generate sample data\n",
        "np.random.seed(42)  # Ensures reproducibility\n",
        "x = np.random.rand(100)\n",
        "y = np.random.rand(100)\n",
        "\n",
        "# Create the scatter plot\n",
        "plt.scatter(x, y, color='blue', marker='o', alpha=0.7)\n",
        "\n",
        "# Add title and labels\n",
        "plt.title(\"Sample Scatter Plot\")\n",
        "plt.xlabel(\"X-axis\")\n",
        "plt.ylabel(\"Y-axis\")\n",
        "\n",
        "# Display the plot\n",
        "plt.show()"
      ],
      "metadata": {
        "colab": {
          "base_uri": "https://localhost:8080/",
          "height": 472
        },
        "id": "lSCLt_ssF6ge",
        "outputId": "c6b55877-e80e-46c6-b0be-780c12a69d15"
      },
      "execution_count": null,
      "outputs": [
        {
          "output_type": "display_data",
          "data": {
            "text/plain": [
              "<Figure size 640x480 with 1 Axes>"
            ],
            "image/png": "[encoded data removed]"
          },
          "metadata": {}
        }
      ]
    },
    {
      "cell_type": "markdown",
      "source": [
        "**4. How do you calculate the correlation matrix using Seaborn and visualize it with a heatmap?**"
      ],
      "metadata": {
        "id": "tUUsSHoyGGrO"
      }
    },
    {
      "cell_type": "code",
      "source": [
        "import pandas as pd\n",
        "import seaborn as sns\n",
        "import matplotlib.pyplot as plt\n",
        "\n",
        "# Sample DataFrame\n",
        "data = {\n",
        "    'A': [1, 2, 3, 4, 5],\n",
        "    'B': [2, 3, 4, 5, 6],\n",
        "    'C': [5, 4, 3, 2, 1],\n",
        "    'D': [1, 3, 5, 7, 9]\n",
        "}\n",
        "df = pd.DataFrame(data)\n",
        "\n",
        "# Compute the correlation matrix\n",
        "corr_matrix = df.corr()\n",
        "\n",
        "# Plot the heatmap\n",
        "plt.figure(figsize=(6, 4))\n",
        "sns.heatmap(corr_matrix, annot=True, cmap='coolwarm', fmt=\".2f\", linewidths=0.5)\n",
        "\n",
        "# Show the plot\n",
        "plt.title(\"Correlation Matrix Heatmap\")\n",
        "plt.show()"
      ],
      "metadata": {
        "colab": {
          "base_uri": "https://localhost:8080/",
          "height": 391
        },
        "id": "s_pi-UEDGeYu",
        "outputId": "8d8746c6-403c-4aa9-cc3c-57e5d16335b8"
      },
      "execution_count": null,
      "outputs": [
        {
          "output_type": "display_data",
          "data": {
            "text/plain": [
              "<Figure size 600x400 with 2 Axes>"
            ],
            "image/png": "[encoded data removed]"
          },
          "metadata": {}
        }
      ]
    },
    {
      "cell_type": "markdown",
      "source": [
        "**5. Generate a bar plot using Plotly.**"
      ],
      "metadata": {
        "id": "6UyigTF9HGbY"
      }
    },
    {
      "cell_type": "code",
      "source": [
        "import plotly.express as px\n",
        "import pandas as pd\n",
        "\n",
        "# Sample data\n",
        "data = {\n",
        "    'Category': ['A', 'B', 'C', 'D'],\n",
        "    'Values': [10, 20, 15, 25]\n",
        "}\n",
        "df = pd.DataFrame(data)\n",
        "\n",
        "# Create bar plot\n",
        "fig = px.bar(df, x='Category', y='Values', title=\"Bar Plot Example\",\n",
        "             labels={'Values': 'Count', 'Category': 'Groups'}, color='Category')\n",
        "\n",
        "# Show the plot\n",
        "fig.show()"
      ],
      "metadata": {
        "colab": {
          "base_uri": "https://localhost:8080/",
          "height": 542
        },
        "id": "IlSQVP1sIfpK",
        "outputId": "9f47a5bd-4371-47ad-998e-29245b44e173"
      },
      "execution_count": null,
      "outputs": [
        {
          "output_type": "display_data",
          "data": {
            "text/html": [
              "<html>\n",
              "<head><meta charset=\"utf-8\" /></head>\n",
              "<body>\n",
              "    <div>            <script src=\"https://cdnjs.cloudflare.com/ajax/libs/mathjax/2.7.5/MathJax.js?config=TeX-AMS-MML_SVG\"></script><script type=\"text/javascript\">if (window.MathJax && window.MathJax.Hub && window.MathJax.Hub.Config) {window.MathJax.Hub.Config({SVG: {font: \"STIX-Web\"}});}</script>                <script type=\"text/javascript\">window.PlotlyConfig = {MathJaxConfig: 'local'};</script>\n",
              "        <script charset=\"utf-8\" src=\"https://cdn.plot.ly/plotly-2.35.2.min.js\"></script>                <div id=\"63e4552c-3d86-4103-b9a9-531aad92e59b\" class=\"plotly-graph-div\" style=\"height:525px; width:100%;\"></div>            <script type=\"text/javascript\">                                    window.PLOTLYENV=window.PLOTLYENV || {};                                    if (document.getElementById(\"63e4552c-3d86-4103-b9a9-531aad92e59b\")) {                    Plotly.newPlot(                        \"63e4552c-3d86-4103-b9a9-531aad92e59b\",                        [{\"alignmentgroup\":\"True\",\"hovertemplate\":\"Groups=%{x}\\u003cbr\\u003eCount=%{y}\\u003cextra\\u003e\\u003c\\u002fextra\\u003e\",\"legendgroup\":\"A\",\"marker\":{\"color\":\"#636efa\",\"pattern\":{\"shape\":\"\"}},\"name\":\"A\",\"offsetgroup\":\"A\",\"orientation\":\"v\",\"showlegend\":true,\"textposition\":\"auto\",\"x\":[\"A\"],\"xaxis\":\"x\",\"y\":[10],\"yaxis\":\"y\",\"type\":\"bar\"},{\"alignmentgroup\":\"True\",\"hovertemplate\":\"Groups=%{x}\\u003cbr\\u003eCount=%{y}\\u003cextra\\u003e\\u003c\\u002fextra\\u003e\",\"legendgroup\":\"B\",\"marker\":{\"color\":\"#EF553B\",\"pattern\":{\"shape\":\"\"}},\"name\":\"B\",\"offsetgroup\":\"B\",\"orientation\":\"v\",\"showlegend\":true,\"textposition\":\"auto\",\"x\":[\"B\"],\"xaxis\":\"x\",\"y\":[20],\"yaxis\":\"y\",\"type\":\"bar\"},{\"alignmentgroup\":\"True\",\"hovertemplate\":\"Groups=%{x}\\u003cbr\\u003eCount=%{y}\\u003cextra\\u003e\\u003c\\u002fextra\\u003e\",\"legendgroup\":\"C\",\"marker\":{\"color\":\"#00cc96\",\"pattern\":{\"shape\":\"\"}},\"name\":\"C\",\"offsetgroup\":\"C\",\"orientation\":\"v\",\"showlegend\":true,\"textposition\":\"auto\",\"x\":[\"C\"],\"xaxis\":\"x\",\"y\":[15],\"yaxis\":\"y\",\"type\":\"bar\"},{\"alignmentgroup\":\"True\",\"hovertemplate\":\"Groups=%{x}\\u003cbr\\u003eCount=%{y}\\u003cextra\\u003e\\u003c\\u002fextra\\u003e\",\"legendgroup\":\"D\",\"marker\":{\"color\":\"#ab63fa\",\"pattern\":{\"shape\":\"\"}},\"name\":\"D\",\"offsetgroup\":\"D\",\"orientation\":\"v\",\"showlegend\":true,\"textposition\":\"auto\",\"x\":[\"D\"],\"xaxis\":\"x\",\"y\":[25],\"yaxis\":\"y\",\"type\":\"bar\"}],                        {\"template\":{\"data\":{\"histogram2dcontour\":[{\"type\":\"histogram2dcontour\",\"colorbar\":{\"outlinewidth\":0,\"ticks\":\"\"},\"colorscale\":[[0.0,\"#0d0887\"],[0.1111111111111111,\"#46039f\"],[0.2222222222222222,\"#7201a8\"],[0.3333333333333333,\"#9c179e\"],[0.4444444444444444,\"#bd3786\"],[0.5555555555555556,\"#d8576b\"],[0.6666666666666666,\"#ed7953\"],[0.7777777777777778,\"#fb9f3a\"],[0.8888888888888888,\"#fdca26\"],[1.0,\"#f0f921\"]]}],\"choropleth\":[{\"type\":\"choropleth\",\"colorbar\":{\"outlinewidth\":0,\"ticks\":\"\"}}],\"histogram2d\":[{\"type\":\"histogram2d\",\"colorbar\":{\"outlinewidth\":0,\"ticks\":\"\"},\"colorscale\":[[0.0,\"#0d0887\"],[0.1111111111111111,\"#46039f\"],[0.2222222222222222,\"#7201a8\"],[0.3333333333333333,\"#9c179e\"],[0.4444444444444444,\"#bd3786\"],[0.5555555555555556,\"#d8576b\"],[0.6666666666666666,\"#ed7953\"],[0.7777777777777778,\"#fb9f3a\"],[0.8888888888888888,\"#fdca26\"],[1.0,\"#f0f921\"]]}],\"heatmap\":[{\"type\":\"heatmap\",\"colorbar\":{\"outlinewidth\":0,\"ticks\":\"\"},\"colorscale\":[[0.0,\"#0d0887\"],[0.1111111111111111,\"#46039f\"],[0.2222222222222222,\"#7201a8\"],[0.3333333333333333,\"#9c179e\"],[0.4444444444444444,\"#bd3786\"],[0.5555555555555556,\"#d8576b\"],[0.6666666666666666,\"#ed7953\"],[0.7777777777777778,\"#fb9f3a\"],[0.8888888888888888,\"#fdca26\"],[1.0,\"#f0f921\"]]}],\"heatmapgl\":[{\"type\":\"heatmapgl\",\"colorbar\":{\"outlinewidth\":0,\"ticks\":\"\"},\"colorscale\":[[0.0,\"#0d0887\"],[0.1111111111111111,\"#46039f\"],[0.2222222222222222,\"#7201a8\"],[0.3333333333333333,\"#9c179e\"],[0.4444444444444444,\"#bd3786\"],[0.5555555555555556,\"#d8576b\"],[0.6666666666666666,\"#ed7953\"],[0.7777777777777778,\"#fb9f3a\"],[0.8888888888888888,\"#fdca26\"],[1.0,\"#f0f921\"]]}],\"contourcarpet\":[{\"type\":\"contourcarpet\",\"colorbar\":{\"outlinewidth\":0,\"ticks\":\"\"}}],\"contour\":[{\"type\":\"contour\",\"colorbar\":{\"outlinewidth\":0,\"ticks\":\"\"},\"colorscale\":[[0.0,\"#0d0887\"],[0.1111111111111111,\"#46039f\"],[0.2222222222222222,\"#7201a8\"],[0.3333333333333333,\"#9c179e\"],[0.4444444444444444,\"#bd3786\"],[0.5555555555555556,\"#d8576b\"],[0.6666666666666666,\"#ed7953\"],[0.7777777777777778,\"#fb9f3a\"],[0.8888888888888888,\"#fdca26\"],[1.0,\"#f0f921\"]]}],\"surface\":[{\"type\":\"surface\",\"colorbar\":{\"outlinewidth\":0,\"ticks\":\"\"},\"colorscale\":[[0.0,\"#0d0887\"],[0.1111111111111111,\"#46039f\"],[0.2222222222222222,\"#7201a8\"],[0.3333333333333333,\"#9c179e\"],[0.4444444444444444,\"#bd3786\"],[0.5555555555555556,\"#d8576b\"],[0.6666666666666666,\"#ed7953\"],[0.7777777777777778,\"#fb9f3a\"],[0.8888888888888888,\"#fdca26\"],[1.0,\"#f0f921\"]]}],\"mesh3d\":[{\"type\":\"mesh3d\",\"colorbar\":{\"outlinewidth\":0,\"ticks\":\"\"}}],\"scatter\":[{\"fillpattern\":{\"fillmode\":\"overlay\",\"size\":10,\"solidity\":0.2},\"type\":\"scatter\"}],\"parcoords\":[{\"type\":\"parcoords\",\"line\":{\"colorbar\":{\"outlinewidth\":0,\"ticks\":\"\"}}}],\"scatterpolargl\":[{\"type\":\"scatterpolargl\",\"marker\":{\"colorbar\":{\"outlinewidth\":0,\"ticks\":\"\"}}}],\"bar\":[{\"error_x\":{\"color\":\"#2a3f5f\"},\"error_y\":{\"color\":\"#2a3f5f\"},\"marker\":{\"line\":{\"color\":\"#E5ECF6\",\"width\":0.5},\"pattern\":{\"fillmode\":\"overlay\",\"size\":10,\"solidity\":0.2}},\"type\":\"bar\"}],\"scattergeo\":[{\"type\":\"scattergeo\",\"marker\":{\"colorbar\":{\"outlinewidth\":0,\"ticks\":\"\"}}}],\"scatterpolar\":[{\"type\":\"scatterpolar\",\"marker\":{\"colorbar\":{\"outlinewidth\":0,\"ticks\":\"\"}}}],\"histogram\":[{\"marker\":{\"pattern\":{\"fillmode\":\"overlay\",\"size\":10,\"solidity\":0.2}},\"type\":\"histogram\"}],\"scattergl\":[{\"type\":\"scattergl\",\"marker\":{\"colorbar\":{\"outlinewidth\":0,\"ticks\":\"\"}}}],\"scatter3d\":[{\"type\":\"scatter3d\",\"line\":{\"colorbar\":{\"outlinewidth\":0,\"ticks\":\"\"}},\"marker\":{\"colorbar\":{\"outlinewidth\":0,\"ticks\":\"\"}}}],\"scattermapbox\":[{\"type\":\"scattermapbox\",\"marker\":{\"colorbar\":{\"outlinewidth\":0,\"ticks\":\"\"}}}],\"scatterternary\":[{\"type\":\"scatterternary\",\"marker\":{\"colorbar\":{\"outlinewidth\":0,\"ticks\":\"\"}}}],\"scattercarpet\":[{\"type\":\"scattercarpet\",\"marker\":{\"colorbar\":{\"outlinewidth\":0,\"ticks\":\"\"}}}],\"carpet\":[{\"aaxis\":{\"endlinecolor\":\"#2a3f5f\",\"gridcolor\":\"white\",\"linecolor\":\"white\",\"minorgridcolor\":\"white\",\"startlinecolor\":\"#2a3f5f\"},\"baxis\":{\"endlinecolor\":\"#2a3f5f\",\"gridcolor\":\"white\",\"linecolor\":\"white\",\"minorgridcolor\":\"white\",\"startlinecolor\":\"#2a3f5f\"},\"type\":\"carpet\"}],\"table\":[{\"cells\":{\"fill\":{\"color\":\"#EBF0F8\"},\"line\":{\"color\":\"white\"}},\"header\":{\"fill\":{\"color\":\"#C8D4E3\"},\"line\":{\"color\":\"white\"}},\"type\":\"table\"}],\"barpolar\":[{\"marker\":{\"line\":{\"color\":\"#E5ECF6\",\"width\":0.5},\"pattern\":{\"fillmode\":\"overlay\",\"size\":10,\"solidity\":0.2}},\"type\":\"barpolar\"}],\"pie\":[{\"automargin\":true,\"type\":\"pie\"}]},\"layout\":{\"autotypenumbers\":\"strict\",\"colorway\":[\"#636efa\",\"#EF553B\",\"#00cc96\",\"#ab63fa\",\"#FFA15A\",\"#19d3f3\",\"#FF6692\",\"#B6E880\",\"#FF97FF\",\"#FECB52\"],\"font\":{\"color\":\"#2a3f5f\"},\"hovermode\":\"closest\",\"hoverlabel\":{\"align\":\"left\"},\"paper_bgcolor\":\"white\",\"plot_bgcolor\":\"#E5ECF6\",\"polar\":{\"bgcolor\":\"#E5ECF6\",\"angularaxis\":{\"gridcolor\":\"white\",\"linecolor\":\"white\",\"ticks\":\"\"},\"radialaxis\":{\"gridcolor\":\"white\",\"linecolor\":\"white\",\"ticks\":\"\"}},\"ternary\":{\"bgcolor\":\"#E5ECF6\",\"aaxis\":{\"gridcolor\":\"white\",\"linecolor\":\"white\",\"ticks\":\"\"},\"baxis\":{\"gridcolor\":\"white\",\"linecolor\":\"white\",\"ticks\":\"\"},\"caxis\":{\"gridcolor\":\"white\",\"linecolor\":\"white\",\"ticks\":\"\"}},\"coloraxis\":{\"colorbar\":{\"outlinewidth\":0,\"ticks\":\"\"}},\"colorscale\":{\"sequential\":[[0.0,\"#0d0887\"],[0.1111111111111111,\"#46039f\"],[0.2222222222222222,\"#7201a8\"],[0.3333333333333333,\"#9c179e\"],[0.4444444444444444,\"#bd3786\"],[0.5555555555555556,\"#d8576b\"],[0.6666666666666666,\"#ed7953\"],[0.7777777777777778,\"#fb9f3a\"],[0.8888888888888888,\"#fdca26\"],[1.0,\"#f0f921\"]],\"sequentialminus\":[[0.0,\"#0d0887\"],[0.1111111111111111,\"#46039f\"],[0.2222222222222222,\"#7201a8\"],[0.3333333333333333,\"#9c179e\"],[0.4444444444444444,\"#bd3786\"],[0.5555555555555556,\"#d8576b\"],[0.6666666666666666,\"#ed7953\"],[0.7777777777777778,\"#fb9f3a\"],[0.8888888888888888,\"#fdca26\"],[1.0,\"#f0f921\"]],\"diverging\":[[0,\"#8e0152\"],[0.1,\"#c51b7d\"],[0.2,\"#de77ae\"],[0.3,\"#f1b6da\"],[0.4,\"#fde0ef\"],[0.5,\"#f7f7f7\"],[0.6,\"#e6f5d0\"],[0.7,\"#b8e186\"],[0.8,\"#7fbc41\"],[0.9,\"#4d9221\"],[1,\"#276419\"]]},\"xaxis\":{\"gridcolor\":\"white\",\"linecolor\":\"white\",\"ticks\":\"\",\"title\":{\"standoff\":15},\"zerolinecolor\":\"white\",\"automargin\":true,\"zerolinewidth\":2},\"yaxis\":{\"gridcolor\":\"white\",\"linecolor\":\"white\",\"ticks\":\"\",\"title\":{\"standoff\":15},\"zerolinecolor\":\"white\",\"automargin\":true,\"zerolinewidth\":2},\"scene\":{\"xaxis\":{\"backgroundcolor\":\"#E5ECF6\",\"gridcolor\":\"white\",\"linecolor\":\"white\",\"showbackground\":true,\"ticks\":\"\",\"zerolinecolor\":\"white\",\"gridwidth\":2},\"yaxis\":{\"backgroundcolor\":\"#E5ECF6\",\"gridcolor\":\"white\",\"linecolor\":\"white\",\"showbackground\":true,\"ticks\":\"\",\"zerolinecolor\":\"white\",\"gridwidth\":2},\"zaxis\":{\"backgroundcolor\":\"#E5ECF6\",\"gridcolor\":\"white\",\"linecolor\":\"white\",\"showbackground\":true,\"ticks\":\"\",\"zerolinecolor\":\"white\",\"gridwidth\":2}},\"shapedefaults\":{\"line\":{\"color\":\"#2a3f5f\"}},\"annotationdefaults\":{\"arrowcolor\":\"#2a3f5f\",\"arrowhead\":0,\"arrowwidth\":1},\"geo\":{\"bgcolor\":\"white\",\"landcolor\":\"#E5ECF6\",\"subunitcolor\":\"white\",\"showland\":true,\"showlakes\":true,\"lakecolor\":\"white\"},\"title\":{\"x\":0.05},\"mapbox\":{\"style\":\"light\"}}},\"xaxis\":{\"anchor\":\"y\",\"domain\":[0.0,1.0],\"title\":{\"text\":\"Groups\"},\"categoryorder\":\"array\",\"categoryarray\":[\"A\",\"B\",\"C\",\"D\"]},\"yaxis\":{\"anchor\":\"x\",\"domain\":[0.0,1.0],\"title\":{\"text\":\"Count\"}},\"legend\":{\"title\":{\"text\":\"Groups\"},\"tracegroupgap\":0},\"title\":{\"text\":\"Bar Plot Example\"},\"barmode\":\"relative\"},                        {\"responsive\": true}                    ).then(function(){\n",
              "                            \n",
              "var gd = document.getElementById('63e4552c-3d86-4103-b9a9-531aad92e59b');\n",
              "var x = new MutationObserver(function (mutations, observer) {{\n",
              "        var display = window.getComputedStyle(gd).display;\n",
              "        if (!display || display === 'none') {{\n",
              "            console.log([gd, 'removed!']);\n",
              "            Plotly.purge(gd);\n",
              "            observer.disconnect();\n",
              "        }}\n",
              "}});\n",
              "\n",
              "// Listen for the removal of the full notebook cells\n",
              "var notebookContainer = gd.closest('#notebook-container');\n",
              "if (notebookContainer) {{\n",
              "    x.observe(notebookContainer, {childList: true});\n",
              "}}\n",
              "\n",
              "// Listen for the clearing of the current output cell\n",
              "var outputEl = gd.closest('.output');\n",
              "if (outputEl) {{\n",
              "    x.observe(outputEl, {childList: true});\n",
              "}}\n",
              "\n",
              "                        })                };                            </script>        </div>\n",
              "</body>\n",
              "</html>"
            ]
          },
          "metadata": {}
        }
      ]
    },
    {
      "cell_type": "markdown",
      "source": [
        "**6. Create a DataFrame and add a new column based on an existing column.**"
      ],
      "metadata": {
        "id": "W6ucuTYEI1hP"
      }
    },
    {
      "cell_type": "code",
      "source": [
        "import pandas as pd\n",
        "\n",
        "# Create a sample DataFrame\n",
        "data = {\n",
        "    'Name': ['Alice', 'Bob', 'Charlie', 'David'],\n",
        "    'Age': [25, 30, 35, 40]\n",
        "}\n",
        "df = pd.DataFrame(data)\n",
        "\n",
        "# Add a new column based on an existing column\n",
        "df['Age Category'] = df['Age'].apply(lambda x: 'Young' if x < 30 else 'Adult')\n",
        "\n",
        "# Display the DataFrame\n",
        "print(df)"
      ],
      "metadata": {
        "colab": {
          "base_uri": "https://localhost:8080/"
        },
        "id": "p_0vEgiyJAQP",
        "outputId": "1b3b314d-ea59-43fe-fdbc-9b43e1c597ea"
      },
      "execution_count": null,
      "outputs": [
        {
          "output_type": "stream",
          "name": "stdout",
          "text": [
            "      Name  Age Age Category\n",
            "0    Alice   25        Young\n",
            "1      Bob   30        Adult\n",
            "2  Charlie   35        Adult\n",
            "3    David   40        Adult\n"
          ]
        }
      ]
    },
    {
      "cell_type": "markdown",
      "source": [
        "**7. Write a program to perform element-wise multiplication of two NumPy arrays.**"
      ],
      "metadata": {
        "id": "6sgzukqpKGJq"
      }
    },
    {
      "cell_type": "code",
      "source": [
        "import numpy as np\n",
        "\n",
        "# Create two NumPy arrays\n",
        "arr1 = np.array([1, 2, 3, 4, 5])\n",
        "arr2 = np.array([10, 20, 30, 40, 50])\n",
        "\n",
        "# Element-wise multiplication\n",
        "result = arr1 * arr2  # Using * operator\n",
        "# result = np.multiply(arr1, arr2)  # Alternative method\n",
        "\n",
        "# Display the result\n",
        "print(\"Array 1:\", arr1)\n",
        "print(\"Array 2:\", arr2)\n",
        "print(\"Element-wise Multiplication:\", result)"
      ],
      "metadata": {
        "colab": {
          "base_uri": "https://localhost:8080/"
        },
        "id": "nGqdvrx9KOuA",
        "outputId": "b02f26a9-8738-490e-cb29-f10492e531bb"
      },
      "execution_count": null,
      "outputs": [
        {
          "output_type": "stream",
          "name": "stdout",
          "text": [
            "Array 1: [1 2 3 4 5]\n",
            "Array 2: [10 20 30 40 50]\n",
            "Element-wise Multiplication: [ 10  40  90 160 250]\n"
          ]
        }
      ]
    },
    {
      "cell_type": "markdown",
      "source": [
        "**8.Create a line plot with multiple lines using Matplotlib.**"
      ],
      "metadata": {
        "id": "b718j_l5KnxP"
      }
    },
    {
      "cell_type": "code",
      "source": [
        "import matplotlib.pyplot as plt\n",
        "\n",
        "# Sample data\n",
        "x = [1, 2, 3, 4, 5]\n",
        "y1 = [10, 20, 25, 30, 40]\n",
        "y2 = [5, 15, 20, 25, 35]\n",
        "y3 = [2, 10, 15, 22, 28]\n",
        "\n",
        "# Create the line plot\n",
        "plt.plot(x, y1, marker='o', linestyle='-', color='b', label='Line 1')\n",
        "plt.plot(x, y2, marker='s', linestyle='--', color='r', label='Line 2')\n",
        "plt.plot(x, y3, marker='^', linestyle='-.', color='g', label='Line 3')\n",
        "\n",
        "# Add labels, title, and legend\n",
        "plt.xlabel(\"X-axis\")\n",
        "plt.ylabel(\"Y-axis\")\n",
        "plt.title(\"Multiple Line Plot Example\")\n",
        "plt.legend()\n",
        "\n",
        "# Show the plot\n",
        "plt.show()"
      ],
      "metadata": {
        "colab": {
          "base_uri": "https://localhost:8080/",
          "height": 472
        },
        "id": "_OmTcriCKvLx",
        "outputId": "ce88fa31-929c-49c7-9ba6-a6f5b7bcfe74"
      },
      "execution_count": null,
      "outputs": [
        {
          "output_type": "display_data",
          "data": {
            "text/plain": [
              "<Figure size 640x480 with 1 Axes>"
            ],
            "image/png": "[encoded data removed]"
          },
          "metadata": {}
        }
      ]
    },
    {
      "cell_type": "markdown",
      "source": [
        "**9. Generate a Pandas DataFrame and filter rows where a column value is greater than a threshold.**"
      ],
      "metadata": {
        "id": "FiF47SfALaA1"
      }
    },
    {
      "cell_type": "code",
      "source": [
        "import pandas as pd\n",
        "\n",
        "# Create a sample DataFrame\n",
        "data = {\n",
        "    'Name': ['Alice', 'Bob', 'Charlie', 'David', 'Eve'],\n",
        "    'Age': [25, 30, 35, 40, 22]\n",
        "}\n",
        "df = pd.DataFrame(data)\n",
        "\n",
        "# Define a threshold\n",
        "threshold = 30\n",
        "\n",
        "# Filter rows where 'Age' is greater than the threshold\n",
        "filtered_df = df[df['Age'] > threshold]\n",
        "\n",
        "# Display the filtered DataFrame\n",
        "print(filtered_df)"
      ],
      "metadata": {
        "colab": {
          "base_uri": "https://localhost:8080/"
        },
        "id": "te5mN2S2Mttv",
        "outputId": "2cea8de2-2b9a-4c6f-e340-0c87dc60032f"
      },
      "execution_count": null,
      "outputs": [
        {
          "output_type": "stream",
          "name": "stdout",
          "text": [
            "      Name  Age\n",
            "2  Charlie   35\n",
            "3    David   40\n"
          ]
        }
      ]
    },
    {
      "cell_type": "markdown",
      "source": [
        "**10. Create a histogram using Seaborn to visualize a distribution.**"
      ],
      "metadata": {
        "id": "dPEqs9cBM2r-"
      }
    },
    {
      "cell_type": "code",
      "source": [
        "import seaborn as sns\n",
        "import matplotlib.pyplot as plt\n",
        "import numpy as np\n",
        "\n",
        "# Generate sample data\n",
        "np.random.seed(42)\n",
        "data = np.random.randn(1000)  # 1000 random values from a normal distribution\n",
        "\n",
        "# Create a histogram\n",
        "sns.histplot(data, bins=30, kde=True, color='blue')\n",
        "\n",
        "# Add labels and title\n",
        "plt.xlabel(\"Value\")\n",
        "plt.ylabel(\"Frequency\")\n",
        "plt.title(\"Histogram of Randomly Generated Data\")\n",
        "\n",
        "# Show the plot\n",
        "plt.show()"
      ],
      "metadata": {
        "colab": {
          "base_uri": "https://localhost:8080/",
          "height": 472
        },
        "id": "xQMtjt9GM9WI",
        "outputId": "b2ac59d6-fbb6-4f7a-a7de-cbc451c9b202"
      },
      "execution_count": null,
      "outputs": [
        {
          "output_type": "display_data",
          "data": {
            "text/plain": [
              "<Figure size 640x480 with 1 Axes>"
            ],
            "image/png": "[encoded data removed]"
          },
          "metadata": {}
        }
      ]
    },
    {
      "cell_type": "markdown",
      "source": [
        "**11. Perform matrix multiplication using NumPy.**"
      ],
      "metadata": {
        "id": "Yu33CdugNdEP"
      }
    },
    {
      "cell_type": "code",
      "source": [
        "import numpy as np\n",
        "\n",
        "# Define two matrices\n",
        "A = np.array([[1, 2, 3],\n",
        "              [4, 5, 6]])\n",
        "\n",
        "B = np.array([[7, 8],\n",
        "              [9, 10],\n",
        "              [11, 12]])\n",
        "\n",
        "# Perform matrix multiplication\n",
        "result = A @ B  # Using @ operator\n",
        "# result = np.dot(A, B)  # Alternative method\n",
        "\n",
        "# Display the result\n",
        "print(\"Matrix A:\\n\", A)\n",
        "print(\"\\nMatrix B:\\n\", B)\n",
        "print(\"\\nMatrix Multiplication Result:\\n\", result)"
      ],
      "metadata": {
        "colab": {
          "base_uri": "https://localhost:8080/"
        },
        "id": "91vm4CdyNnln",
        "outputId": "fb52eacc-07c8-4df4-f9fe-602aba4d8412"
      },
      "execution_count": null,
      "outputs": [
        {
          "output_type": "stream",
          "name": "stdout",
          "text": [
            "Matrix A:\n",
            " [[1 2 3]\n",
            " [4 5 6]]\n",
            "\n",
            "Matrix B:\n",
            " [[ 7  8]\n",
            " [ 9 10]\n",
            " [11 12]]\n",
            "\n",
            "Matrix Multiplication Result:\n",
            " [[ 58  64]\n",
            " [139 154]]\n"
          ]
        }
      ]
    },
    {
      "cell_type": "markdown",
      "source": [
        "**12. Use Pandas to load a CSV file and display its first 5 rows.**"
      ],
      "metadata": {
        "id": "VfsSOYEqN5Ta"
      }
    },
    {
      "cell_type": "code",
      "source": [
        "import pandas as pd\n",
        "\n",
        "# Load the CSV file\n",
        "df = pd.read_csv(\"https://raw.githubusercontent.com/MainakRepositor/Datasets/refs/heads/master/Pokemon.csv\")  # Replace with your actual file path\n",
        "\n",
        "# Display the first 5 rows\n",
        "print(df.head())"
      ],
      "metadata": {
        "colab": {
          "base_uri": "https://localhost:8080/"
        },
        "id": "_LJx-7xpOR6Z",
        "outputId": "c15edc89-009c-4a54-e777-611a835a7392"
      },
      "execution_count": null,
      "outputs": [
        {
          "output_type": "stream",
          "name": "stdout",
          "text": [
            "   #                   Name Type 1  Type 2  Total  HP  Attack  Defense  \\\n",
            "0  1              Bulbasaur  Grass  Poison    318  45      49       49   \n",
            "1  2                Ivysaur  Grass  Poison    405  60      62       63   \n",
            "2  3               Venusaur  Grass  Poison    525  80      82       83   \n",
            "3  3  VenusaurMega Venusaur  Grass  Poison    625  80     100      123   \n",
            "4  4             Charmander   Fire     NaN    309  39      52       43   \n",
            "\n",
            "   Sp. Atk  Sp. Def  Speed  Generation  Legendary  \n",
            "0       65       65     45           1      False  \n",
            "1       80       80     60           1      False  \n",
            "2      100      100     80           1      False  \n",
            "3      122      120     80           1      False  \n",
            "4       60       50     65           1      False  \n"
          ]
        }
      ]
    },
    {
      "cell_type": "markdown",
      "source": [
        "**13. Create a 3D scatter plot using Plotly**"
      ],
      "metadata": {
        "id": "xyrrm56lOSTf"
      }
    },
    {
      "cell_type": "code",
      "source": [
        "import plotly.express as px\n",
        "import pandas as pd\n",
        "import numpy as np\n",
        "\n",
        "# Generate sample data\n",
        "np.random.seed(42)\n",
        "df = pd.DataFrame({\n",
        "    'X': np.random.rand(50),\n",
        "    'Y': np.random.rand(50),\n",
        "    'Z': np.random.rand(50),\n",
        "    'Category': np.random.choice(['A', 'B', 'C'], 50)  # Categorical coloring\n",
        "})\n",
        "\n",
        "# Create 3D scatter plot\n",
        "fig = px.scatter_3d(df, x='X', y='Y', z='Z', color='Category',\n",
        "                     title=\"3D Scatter Plot Example\")\n",
        "\n",
        "# Show the plot\n",
        "fig.show()"
      ],
      "metadata": {
        "colab": {
          "base_uri": "https://localhost:8080/",
          "height": 542
        },
        "id": "fs-zVMoPOXmf",
        "outputId": "bc855ef2-5d39-470a-80a4-56487d7a42c9"
      },
      "execution_count": null,
      "outputs": [
        {
          "output_type": "display_data",
          "data": {
            "text/html": [
              "<html>\n",
              "<head><meta charset=\"utf-8\" /></head>\n",
              "<body>\n",
              "    <div>            <script src=\"https://cdnjs.cloudflare.com/ajax/libs/mathjax/2.7.5/MathJax.js?config=TeX-AMS-MML_SVG\"></script><script type=\"text/javascript\">if (window.MathJax && window.MathJax.Hub && window.MathJax.Hub.Config) {window.MathJax.Hub.Config({SVG: {font: \"STIX-Web\"}});}</script>                <script type=\"text/javascript\">window.PlotlyConfig = {MathJaxConfig: 'local'};</script>\n",
              "        <script charset=\"utf-8\" src=\"https://cdn.plot.ly/plotly-2.35.2.min.js\"></script>                <div id=\"023d5aa4-d75e-45be-b1db-336c06ba2adc\" class=\"plotly-graph-div\" style=\"height:525px; width:100%;\"></div>            <script type=\"text/javascript\">                                    window.PLOTLYENV=window.PLOTLYENV || {};                                    if (document.getElementById(\"023d5aa4-d75e-45be-b1db-336c06ba2adc\")) {                    Plotly.newPlot(                        \"023d5aa4-d75e-45be-b1db-336c06ba2adc\",                        [{\"hovertemplate\":\"Category=A\\u003cbr\\u003eX=%{x}\\u003cbr\\u003eY=%{y}\\u003cbr\\u003eZ=%{z}\\u003cextra\\u003e\\u003c\\u002fextra\\u003e\",\"legendgroup\":\"A\",\"marker\":{\"color\":\"#636efa\",\"symbol\":\"circle\"},\"mode\":\"markers\",\"name\":\"A\",\"scene\":\"scene\",\"showlegend\":true,\"x\":[0.3745401188473625,0.9507143064099162,0.15599452033620265,0.8324426408004217,0.18340450985343382,0.13949386065204183,0.29214464853521815,0.7851759613930136,0.9656320330745594,0.8083973481164611,0.6842330265121569,0.12203823484477883,0.4951769101112702],\"y\":[0.9695846277645586,0.7751328233611146,0.9218742350231168,0.8287375091519293,0.5426960831582485,0.1987156815341724,0.005522117123602399,0.7290071680409873,0.3109823217156622,0.32518332202674705,0.8872127425763265,0.1195942459383017,0.713244787222995],\"z\":[0.03142918568673425,0.6364104112637804,0.24929222914887494,0.9296976523425731,0.8714605901877177,0.8960912999234932,0.3180034749718639,0.4271077886262563,0.9429097039125192,0.32320293202075523,0.363629602379294,0.9624472949421112,0.25178229582536416],\"type\":\"scatter3d\"},{\"hovertemplate\":\"Category=C\\u003cbr\\u003eX=%{x}\\u003cbr\\u003eY=%{y}\\u003cbr\\u003eZ=%{z}\\u003cextra\\u003e\\u003c\\u002fextra\\u003e\",\"legendgroup\":\"C\",\"marker\":{\"color\":\"#EF553B\",\"symbol\":\"circle\"},\"mode\":\"markers\",\"name\":\"C\",\"scene\":\"scene\",\"showlegend\":true,\"x\":[0.7319939418114051,0.6011150117432088,0.7080725777960455,0.020584494295802447,0.9699098521619943,0.21233911067827616,0.2912291401980419,0.6118528947223795,0.3663618432936917,0.19967378215835974,0.5142344384136116,0.5924145688620425,0.6075448519014384,0.17052412368729153,0.06505159298527952,0.9488855372533332,0.3046137691733707,0.4401524937396013,0.9093204020787821,0.2587799816000169,0.5200680211778108,0.5467102793432796],\"y\":[0.9394989415641891,0.045227288910538066,0.32533033076326434,0.388677289689482,0.2713490317738959,0.3567533266935893,0.9868869366005173,0.7722447692966574,0.8154614284548342,0.7712703466859457,0.07404465173409036,0.3584657285442726,0.8631034258755935,0.6232981268275579,0.3308980248526492,0.06355835028602363,0.7296061783380641,0.4722149251619493,0.5612771975694962,0.770967179954561,0.42754101835854963,0.02541912674409519],\"z\":[0.3143559810763267,0.22879816549162246,0.07697990982879299,0.289751452913768,0.16122128725400442,0.808120379564417,0.5393422419156507,0.8074401551640625,0.11005192452767676,0.8180147659224931,0.8607305832563434,0.006952130531190703,0.417411003148779,0.22210781047073025,0.1198653673336828,0.33761517140362796,0.5187906217433661,0.9717820827209607,0.30087830981676966,0.2848404943774676,0.5026790232288615,0.05147875124998935],\"type\":\"scatter3d\"},{\"hovertemplate\":\"Category=B\\u003cbr\\u003eX=%{x}\\u003cbr\\u003eY=%{y}\\u003cbr\\u003eZ=%{z}\\u003cextra\\u003e\\u003c\\u002fextra\\u003e\",\"legendgroup\":\"B\",\"marker\":{\"color\":\"#00cc96\",\"symbol\":\"circle\"},\"mode\":\"markers\",\"name\":\"B\",\"scene\":\"scene\",\"showlegend\":true,\"x\":[0.5986584841970366,0.15601864044243652,0.05808361216819946,0.8661761457749352,0.18182496720710062,0.3042422429595377,0.5247564316322378,0.43194501864211576,0.45606998421703593,0.046450412719997725,0.09767211400638387,0.034388521115218396,0.662522284353982,0.31171107608941095,0.18485445552552704],\"y\":[0.8948273504276488,0.5978999788110851,0.0884925020519195,0.1959828624191452,0.28093450968738076,0.14092422497476265,0.8021969807540397,0.07455064367977082,0.7068573438476171,0.11586905952512971,0.6375574713552131,0.7607850486168974,0.49379559636439074,0.5227328293819941,0.10789142699330445],\"z\":[0.5085706911647028,0.907566473926093,0.41038292303562973,0.7555511385430487,0.6334037565104235,0.8036720768991145,0.18657005888603584,0.8925589984899778,0.22793516254194168,0.5107473025775657,0.7030189588951778,0.49724850589238545,0.036886947354532795,0.6095643339798968,0.27864646423661144],\"type\":\"scatter3d\"}],                        {\"template\":{\"data\":{\"histogram2dcontour\":[{\"type\":\"histogram2dcontour\",\"colorbar\":{\"outlinewidth\":0,\"ticks\":\"\"},\"colorscale\":[[0.0,\"#0d0887\"],[0.1111111111111111,\"#46039f\"],[0.2222222222222222,\"#7201a8\"],[0.3333333333333333,\"#9c179e\"],[0.4444444444444444,\"#bd3786\"],[0.5555555555555556,\"#d8576b\"],[0.6666666666666666,\"#ed7953\"],[0.7777777777777778,\"#fb9f3a\"],[0.8888888888888888,\"#fdca26\"],[1.0,\"#f0f921\"]]}],\"choropleth\":[{\"type\":\"choropleth\",\"colorbar\":{\"outlinewidth\":0,\"ticks\":\"\"}}],\"histogram2d\":[{\"type\":\"histogram2d\",\"colorbar\":{\"outlinewidth\":0,\"ticks\":\"\"},\"colorscale\":[[0.0,\"#0d0887\"],[0.1111111111111111,\"#46039f\"],[0.2222222222222222,\"#7201a8\"],[0.3333333333333333,\"#9c179e\"],[0.4444444444444444,\"#bd3786\"],[0.5555555555555556,\"#d8576b\"],[0.6666666666666666,\"#ed7953\"],[0.7777777777777778,\"#fb9f3a\"],[0.8888888888888888,\"#fdca26\"],[1.0,\"#f0f921\"]]}],\"heatmap\":[{\"type\":\"heatmap\",\"colorbar\":{\"outlinewidth\":0,\"ticks\":\"\"},\"colorscale\":[[0.0,\"#0d0887\"],[0.1111111111111111,\"#46039f\"],[0.2222222222222222,\"#7201a8\"],[0.3333333333333333,\"#9c179e\"],[0.4444444444444444,\"#bd3786\"],[0.5555555555555556,\"#d8576b\"],[0.6666666666666666,\"#ed7953\"],[0.7777777777777778,\"#fb9f3a\"],[0.8888888888888888,\"#fdca26\"],[1.0,\"#f0f921\"]]}],\"heatmapgl\":[{\"type\":\"heatmapgl\",\"colorbar\":{\"outlinewidth\":0,\"ticks\":\"\"},\"colorscale\":[[0.0,\"#0d0887\"],[0.1111111111111111,\"#46039f\"],[0.2222222222222222,\"#7201a8\"],[0.3333333333333333,\"#9c179e\"],[0.4444444444444444,\"#bd3786\"],[0.5555555555555556,\"#d8576b\"],[0.6666666666666666,\"#ed7953\"],[0.7777777777777778,\"#fb9f3a\"],[0.8888888888888888,\"#fdca26\"],[1.0,\"#f0f921\"]]}],\"contourcarpet\":[{\"type\":\"contourcarpet\",\"colorbar\":{\"outlinewidth\":0,\"ticks\":\"\"}}],\"contour\":[{\"type\":\"contour\",\"colorbar\":{\"outlinewidth\":0,\"ticks\":\"\"},\"colorscale\":[[0.0,\"#0d0887\"],[0.1111111111111111,\"#46039f\"],[0.2222222222222222,\"#7201a8\"],[0.3333333333333333,\"#9c179e\"],[0.4444444444444444,\"#bd3786\"],[0.5555555555555556,\"#d8576b\"],[0.6666666666666666,\"#ed7953\"],[0.7777777777777778,\"#fb9f3a\"],[0.8888888888888888,\"#fdca26\"],[1.0,\"#f0f921\"]]}],\"surface\":[{\"type\":\"surface\",\"colorbar\":{\"outlinewidth\":0,\"ticks\":\"\"},\"colorscale\":[[0.0,\"#0d0887\"],[0.1111111111111111,\"#46039f\"],[0.2222222222222222,\"#7201a8\"],[0.3333333333333333,\"#9c179e\"],[0.4444444444444444,\"#bd3786\"],[0.5555555555555556,\"#d8576b\"],[0.6666666666666666,\"#ed7953\"],[0.7777777777777778,\"#fb9f3a\"],[0.8888888888888888,\"#fdca26\"],[1.0,\"#f0f921\"]]}],\"mesh3d\":[{\"type\":\"mesh3d\",\"colorbar\":{\"outlinewidth\":0,\"ticks\":\"\"}}],\"scatter\":[{\"fillpattern\":{\"fillmode\":\"overlay\",\"size\":10,\"solidity\":0.2},\"type\":\"scatter\"}],\"parcoords\":[{\"type\":\"parcoords\",\"line\":{\"colorbar\":{\"outlinewidth\":0,\"ticks\":\"\"}}}],\"scatterpolargl\":[{\"type\":\"scatterpolargl\",\"marker\":{\"colorbar\":{\"outlinewidth\":0,\"ticks\":\"\"}}}],\"bar\":[{\"error_x\":{\"color\":\"#2a3f5f\"},\"error_y\":{\"color\":\"#2a3f5f\"},\"marker\":{\"line\":{\"color\":\"#E5ECF6\",\"width\":0.5},\"pattern\":{\"fillmode\":\"overlay\",\"size\":10,\"solidity\":0.2}},\"type\":\"bar\"}],\"scattergeo\":[{\"type\":\"scattergeo\",\"marker\":{\"colorbar\":{\"outlinewidth\":0,\"ticks\":\"\"}}}],\"scatterpolar\":[{\"type\":\"scatterpolar\",\"marker\":{\"colorbar\":{\"outlinewidth\":0,\"ticks\":\"\"}}}],\"histogram\":[{\"marker\":{\"pattern\":{\"fillmode\":\"overlay\",\"size\":10,\"solidity\":0.2}},\"type\":\"histogram\"}],\"scattergl\":[{\"type\":\"scattergl\",\"marker\":{\"colorbar\":{\"outlinewidth\":0,\"ticks\":\"\"}}}],\"scatter3d\":[{\"type\":\"scatter3d\",\"line\":{\"colorbar\":{\"outlinewidth\":0,\"ticks\":\"\"}},\"marker\":{\"colorbar\":{\"outlinewidth\":0,\"ticks\":\"\"}}}],\"scattermapbox\":[{\"type\":\"scattermapbox\",\"marker\":{\"colorbar\":{\"outlinewidth\":0,\"ticks\":\"\"}}}],\"scatterternary\":[{\"type\":\"scatterternary\",\"marker\":{\"colorbar\":{\"outlinewidth\":0,\"ticks\":\"\"}}}],\"scattercarpet\":[{\"type\":\"scattercarpet\",\"marker\":{\"colorbar\":{\"outlinewidth\":0,\"ticks\":\"\"}}}],\"carpet\":[{\"aaxis\":{\"endlinecolor\":\"#2a3f5f\",\"gridcolor\":\"white\",\"linecolor\":\"white\",\"minorgridcolor\":\"white\",\"startlinecolor\":\"#2a3f5f\"},\"baxis\":{\"endlinecolor\":\"#2a3f5f\",\"gridcolor\":\"white\",\"linecolor\":\"white\",\"minorgridcolor\":\"white\",\"startlinecolor\":\"#2a3f5f\"},\"type\":\"carpet\"}],\"table\":[{\"cells\":{\"fill\":{\"color\":\"#EBF0F8\"},\"line\":{\"color\":\"white\"}},\"header\":{\"fill\":{\"color\":\"#C8D4E3\"},\"line\":{\"color\":\"white\"}},\"type\":\"table\"}],\"barpolar\":[{\"marker\":{\"line\":{\"color\":\"#E5ECF6\",\"width\":0.5},\"pattern\":{\"fillmode\":\"overlay\",\"size\":10,\"solidity\":0.2}},\"type\":\"barpolar\"}],\"pie\":[{\"automargin\":true,\"type\":\"pie\"}]},\"layout\":{\"autotypenumbers\":\"strict\",\"colorway\":[\"#636efa\",\"#EF553B\",\"#00cc96\",\"#ab63fa\",\"#FFA15A\",\"#19d3f3\",\"#FF6692\",\"#B6E880\",\"#FF97FF\",\"#FECB52\"],\"font\":{\"color\":\"#2a3f5f\"},\"hovermode\":\"closest\",\"hoverlabel\":{\"align\":\"left\"},\"paper_bgcolor\":\"white\",\"plot_bgcolor\":\"#E5ECF6\",\"polar\":{\"bgcolor\":\"#E5ECF6\",\"angularaxis\":{\"gridcolor\":\"white\",\"linecolor\":\"white\",\"ticks\":\"\"},\"radialaxis\":{\"gridcolor\":\"white\",\"linecolor\":\"white\",\"ticks\":\"\"}},\"ternary\":{\"bgcolor\":\"#E5ECF6\",\"aaxis\":{\"gridcolor\":\"white\",\"linecolor\":\"white\",\"ticks\":\"\"},\"baxis\":{\"gridcolor\":\"white\",\"linecolor\":\"white\",\"ticks\":\"\"},\"caxis\":{\"gridcolor\":\"white\",\"linecolor\":\"white\",\"ticks\":\"\"}},\"coloraxis\":{\"colorbar\":{\"outlinewidth\":0,\"ticks\":\"\"}},\"colorscale\":{\"sequential\":[[0.0,\"#0d0887\"],[0.1111111111111111,\"#46039f\"],[0.2222222222222222,\"#7201a8\"],[0.3333333333333333,\"#9c179e\"],[0.4444444444444444,\"#bd3786\"],[0.5555555555555556,\"#d8576b\"],[0.6666666666666666,\"#ed7953\"],[0.7777777777777778,\"#fb9f3a\"],[0.8888888888888888,\"#fdca26\"],[1.0,\"#f0f921\"]],\"sequentialminus\":[[0.0,\"#0d0887\"],[0.1111111111111111,\"#46039f\"],[0.2222222222222222,\"#7201a8\"],[0.3333333333333333,\"#9c179e\"],[0.4444444444444444,\"#bd3786\"],[0.5555555555555556,\"#d8576b\"],[0.6666666666666666,\"#ed7953\"],[0.7777777777777778,\"#fb9f3a\"],[0.8888888888888888,\"#fdca26\"],[1.0,\"#f0f921\"]],\"diverging\":[[0,\"#8e0152\"],[0.1,\"#c51b7d\"],[0.2,\"#de77ae\"],[0.3,\"#f1b6da\"],[0.4,\"#fde0ef\"],[0.5,\"#f7f7f7\"],[0.6,\"#e6f5d0\"],[0.7,\"#b8e186\"],[0.8,\"#7fbc41\"],[0.9,\"#4d9221\"],[1,\"#276419\"]]},\"xaxis\":{\"gridcolor\":\"white\",\"linecolor\":\"white\",\"ticks\":\"\",\"title\":{\"standoff\":15},\"zerolinecolor\":\"white\",\"automargin\":true,\"zerolinewidth\":2},\"yaxis\":{\"gridcolor\":\"white\",\"linecolor\":\"white\",\"ticks\":\"\",\"title\":{\"standoff\":15},\"zerolinecolor\":\"white\",\"automargin\":true,\"zerolinewidth\":2},\"scene\":{\"xaxis\":{\"backgroundcolor\":\"#E5ECF6\",\"gridcolor\":\"white\",\"linecolor\":\"white\",\"showbackground\":true,\"ticks\":\"\",\"zerolinecolor\":\"white\",\"gridwidth\":2},\"yaxis\":{\"backgroundcolor\":\"#E5ECF6\",\"gridcolor\":\"white\",\"linecolor\":\"white\",\"showbackground\":true,\"ticks\":\"\",\"zerolinecolor\":\"white\",\"gridwidth\":2},\"zaxis\":{\"backgroundcolor\":\"#E5ECF6\",\"gridcolor\":\"white\",\"linecolor\":\"white\",\"showbackground\":true,\"ticks\":\"\",\"zerolinecolor\":\"white\",\"gridwidth\":2}},\"shapedefaults\":{\"line\":{\"color\":\"#2a3f5f\"}},\"annotationdefaults\":{\"arrowcolor\":\"#2a3f5f\",\"arrowhead\":0,\"arrowwidth\":1},\"geo\":{\"bgcolor\":\"white\",\"landcolor\":\"#E5ECF6\",\"subunitcolor\":\"white\",\"showland\":true,\"showlakes\":true,\"lakecolor\":\"white\"},\"title\":{\"x\":0.05},\"mapbox\":{\"style\":\"light\"}}},\"scene\":{\"domain\":{\"x\":[0.0,1.0],\"y\":[0.0,1.0]},\"xaxis\":{\"title\":{\"text\":\"X\"}},\"yaxis\":{\"title\":{\"text\":\"Y\"}},\"zaxis\":{\"title\":{\"text\":\"Z\"}}},\"legend\":{\"title\":{\"text\":\"Category\"},\"tracegroupgap\":0},\"title\":{\"text\":\"3D Scatter Plot Example\"}},                        {\"responsive\": true}                    ).then(function(){\n",
              "                            \n",
              "var gd = document.getElementById('023d5aa4-d75e-45be-b1db-336c06ba2adc');\n",
              "var x = new MutationObserver(function (mutations, observer) {{\n",
              "        var display = window.getComputedStyle(gd).display;\n",
              "        if (!display || display === 'none') {{\n",
              "            console.log([gd, 'removed!']);\n",
              "            Plotly.purge(gd);\n",
              "            observer.disconnect();\n",
              "        }}\n",
              "}});\n",
              "\n",
              "// Listen for the removal of the full notebook cells\n",
              "var notebookContainer = gd.closest('#notebook-container');\n",
              "if (notebookContainer) {{\n",
              "    x.observe(notebookContainer, {childList: true});\n",
              "}}\n",
              "\n",
              "// Listen for the clearing of the current output cell\n",
              "var outputEl = gd.closest('.output');\n",
              "if (outputEl) {{\n",
              "    x.observe(outputEl, {childList: true});\n",
              "}}\n",
              "\n",
              "                        })                };                            </script>        </div>\n",
              "</body>\n",
              "</html>"
            ]
          },
          "metadata": {}
        }
      ]
    }
  ]
}